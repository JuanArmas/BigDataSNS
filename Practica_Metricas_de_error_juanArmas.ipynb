{
  "nbformat": 4,
  "nbformat_minor": 0,
  "metadata": {
    "colab": {
      "provenance": [],
      "authorship_tag": "ABX9TyNHNmd6/zLATTQUTzZXc+aM",
      "include_colab_link": true
    },
    "kernelspec": {
      "name": "python3",
      "display_name": "Python 3"
    },
    "language_info": {
      "name": "python"
    }
  },
  "cells": [
    {
      "cell_type": "markdown",
      "metadata": {
        "id": "view-in-github",
        "colab_type": "text"
      },
      "source": [
        "<a href=\"https://colab.research.google.com/github/JuanArmas/BigDataSNS/blob/main/Practica_Metricas_de_error_juanArmas.ipynb\" target=\"_parent\"><img src=\"https://colab.research.google.com/assets/colab-badge.svg\" alt=\"Open In Colab\"/></a>"
      ]
    },
    {
      "cell_type": "markdown",
      "source": [
        "23_24\n",
        "\n",
        "Actividad 3.1 - Métricas de error para los problemas de regresión\n",
        "\n",
        "A partir de los ejemplos indicados realizar los ejercicios propuestos"
      ],
      "metadata": {
        "id": "irnc2RYVuYVU"
      }
    },
    {
      "cell_type": "code",
      "source": [
        "import numpy as np"
      ],
      "metadata": {
        "id": "AkbAyz7eW1WX"
      },
      "execution_count": 1,
      "outputs": []
    },
    {
      "cell_type": "code",
      "execution_count": 2,
      "metadata": {
        "colab": {
          "base_uri": "https://localhost:8080/"
        },
        "id": "jVLFdfzxdsfG",
        "outputId": "b1b01d6f-ab9f-48f5-947c-3a535a9c623a"
      },
      "outputs": [
        {
          "output_type": "execute_result",
          "data": {
            "text/plain": [
              "0.5"
            ]
          },
          "metadata": {},
          "execution_count": 2
        }
      ],
      "source": [
        "#Error absoluto medio - mae\n",
        "from sklearn.metrics import mean_absolute_error\n",
        "# Ejemplo 1\n",
        "y_true = [3, -0.5, 2, 7]\n",
        "y_pred = [2.5, 0, 2, 8]\n",
        "mean_absolute_error(y_true, y_pred)\n"
      ]
    },
    {
      "cell_type": "code",
      "source": [
        "# Ejer 1: Crear dos vectores/arrays de valores ciertos y valores previstos, y calcular el mae.\n",
        "# ¿Qué valores deberían de tener el array pred para que el error fuese 0? deberían tener el mismo valor\n",
        "# ¿y para que error fuese de 0.25? deberían tener una diferencia de 0.25 en los valores\n"
      ],
      "metadata": {
        "id": "67XK1bXegMai"
      },
      "execution_count": null,
      "outputs": []
    },
    {
      "cell_type": "markdown",
      "source": [
        "- ¿Qué valores deberían de tener el array pred para que el error fuese 0?\n",
        "  Deberían tener el mismo valor\n",
        "- ¿y para que error fuese de 0.25?\n",
        "  Deberían tener una diferencia de 0.25 en los valores"
      ],
      "metadata": {
        "id": "lXYnMIflUVhA"
      }
    },
    {
      "cell_type": "markdown",
      "source": [
        "Ejercicio 1:"
      ],
      "metadata": {
        "id": "NoomZCCDW582"
      }
    },
    {
      "cell_type": "code",
      "source": [
        "y_true =[3,4,5,6,7]\n",
        "y_pred = [3.25,4.25,5.25,6.25,7.25]\n",
        "mae_0_error = mean_absolute_error(y_true,y_true)\n",
        "mae_025_error = mean_absolute_error(y_true,y_pred)\n",
        "print(\"MAE cero error: \",mae_0_error)\n",
        "print(\"\\nMAE 0.25 error: \",mae_025_error)"
      ],
      "metadata": {
        "colab": {
          "base_uri": "https://localhost:8080/"
        },
        "id": "fmEpoYQFWv17",
        "outputId": "4f9d45da-cbb5-48e9-f21e-21156499dd3e"
      },
      "execution_count": null,
      "outputs": [
        {
          "output_type": "stream",
          "name": "stdout",
          "text": [
            "MAE cero error:  0.0\n",
            "\n",
            "MAE 0.25 error:  0.25\n"
          ]
        }
      ]
    },
    {
      "cell_type": "markdown",
      "source": [
        "Ejemplos practicos:\n",
        "\n",
        "https://runebook.dev/es/docs/scikit_learn/modules/generated/sklearn.metrics.mean_absolute_error#sklearn.metrics.mean_absolute_error"
      ],
      "metadata": {
        "id": "4Cm6Xtl9b7gc"
      }
    },
    {
      "cell_type": "code",
      "source": [
        "y_true = [ 3 , - 0.5 , 2 , 7 ]\n",
        "y_pred = [ 2.5 , 0.0 , 2 , 8 ]\n",
        "error_05 = mean_absolute_error(y_true, y_pred)\n",
        "print(\"Error 0.5: \",error_05)\n",
        "\n",
        "y_true = [[ 0.5 , 1 ], [- 1 , 1 ], [ 7 , - 6 ]]\n",
        "y_pred = [[ 0 , 2 ], [- 1 , 2 ], [ 8 , - 5 ]]\n",
        "error_075 = mean_absolute_error(y_true, y_pred)\n",
        "print(\"Error 0.75: \", error_075)\n",
        "\n",
        "imprime_array = mean_absolute_error(y_true, y_pred, multioutput= 'raw_values' )\n",
        "print(\"imprime error medio absoludo de cada salida = \", imprime_array)\n",
        "\n",
        "imprime_promedio_ponderado = mean_absolute_error(y_true, y_pred, multioutput= 'uniform_average')\n",
        "print(\"imprime promedio ponderado de los err de salida = \", imprime_promedio_ponderado)\n",
        "\n",
        "error_085 = mean_absolute_error(y_true, y_pred, multioutput=[ 0.3 , 0.7 ])\n",
        "print(\"Error 0.85: \",error_085)\n"
      ],
      "metadata": {
        "colab": {
          "base_uri": "https://localhost:8080/"
        },
        "id": "1SxFmEylZFYI",
        "outputId": "d593539b-fade-4048-cdbb-70dcafba7ce4"
      },
      "execution_count": null,
      "outputs": [
        {
          "output_type": "stream",
          "name": "stdout",
          "text": [
            "Error 0.5:  0.5\n",
            "Error 0.75:  0.75\n",
            "imprime error medio absoludo de cada salida =  [0.5 1. ]\n",
            "imprime promedio ponderado de los err de salida =  0.75\n",
            "Error 0.85:  0.85\n"
          ]
        }
      ]
    },
    {
      "cell_type": "code",
      "source": [
        "# Ejemplo 2\n",
        "y_true = [[0.5, 1], [-1, 1], [7, -6]]\n",
        "y_pred = [[0, 2], [-1, 2], [8, -5]]\n",
        "mean_absolute_error(y_true, y_pred)"
      ],
      "metadata": {
        "id": "3LhzsD30f60T",
        "colab": {
          "base_uri": "https://localhost:8080/"
        },
        "outputId": "dbd3978f-a5dd-41d0-e955-4780cfdf9e61"
      },
      "execution_count": null,
      "outputs": [
        {
          "output_type": "execute_result",
          "data": {
            "text/plain": [
              "0.75"
            ]
          },
          "metadata": {},
          "execution_count": 3
        }
      ]
    },
    {
      "cell_type": "code",
      "source": [
        "# Ejer 2: Crear dos matrices/arrays de valores ciertos y valores previstos, y calcular el mse.\n",
        "# ¿Qué valores deberían de tener el array pred para que el error fuese 0? ¿y para que error fuese de 0.33?\n"
      ],
      "metadata": {
        "id": "LnPx6A4Astfq"
      },
      "execution_count": null,
      "outputs": []
    },
    {
      "cell_type": "code",
      "source": [
        "# Error cuadrático medio - mse\n",
        "from sklearn.metrics import mean_squared_error\n",
        "y_true = [3, -0.5, 2, 7]\n",
        "y_pred = [2.5, 0.0, 2, 8]\n",
        "mean_squared_error(y_true, y_pred)\n"
      ],
      "metadata": {
        "colab": {
          "base_uri": "https://localhost:8080/"
        },
        "id": "59efr-GWgKP6",
        "outputId": "5d29d803-2904-4bbd-85cd-9f4eba22ae15"
      },
      "execution_count": 3,
      "outputs": [
        {
          "output_type": "execute_result",
          "data": {
            "text/plain": [
              "0.375"
            ]
          },
          "metadata": {},
          "execution_count": 3
        }
      ]
    },
    {
      "cell_type": "code",
      "source": [
        "y_true =[3,4,5,6,7]\n",
        "y_pred = [3.55,4.55,5.55,6.55,7.55]\n",
        "mse_0_error = mean_squared_error(y_true,y_true)\n",
        "mse_033_error = mean_squared_error(y_true,y_pred)\n",
        "print(\"MSE cero error: \",mse_0_error)\n",
        "print(\"\\nMSE 0.33 error: \",mse_033_error)"
      ],
      "metadata": {
        "colab": {
          "base_uri": "https://localhost:8080/"
        },
        "id": "MVbvLbJMVlnT",
        "outputId": "61e5f176-a7db-453e-826f-5149c00c01b9"
      },
      "execution_count": 12,
      "outputs": [
        {
          "output_type": "stream",
          "name": "stdout",
          "text": [
            "MSE cero error:  0.0\n",
            "\n",
            "MSE 0.33 error:  0.3024999999999998\n"
          ]
        }
      ]
    },
    {
      "cell_type": "code",
      "source": [
        "# Ejer 3: Crear dos vectores/arrays de valores ciertos y valores previstos, y calcular el mse.\n",
        "# ¿Qué valores deberían de tener el array pred para que el error fuese 0? ¿y para que error fuese de 0.25?\n",
        "# Nota: Es muy interesante comparar los resultados al aplicaer mae y mse sobre el mismo conjunto de datos. Podrás obervar\n",
        "#       que mse \"penaliza más\" (es decir, el número que se obtiene es mayor) con las diferencias entre los valores originales y los predichos que mae\n"
      ],
      "metadata": {
        "id": "FLZt6j17u7sE"
      },
      "execution_count": null,
      "outputs": []
    },
    {
      "cell_type": "code",
      "source": [
        "# Ejer 4: Crear dos matrices/arrays de valores ciertos y valores previstos, y calcular el mae.\n",
        "# ¿Qué valores deberían de tener el array pred para que el error fuese 0? ¿y para que error fuese de 0.33?\n"
      ],
      "metadata": {
        "id": "M9nZd4nLvIRB"
      },
      "execution_count": null,
      "outputs": []
    },
    {
      "cell_type": "code",
      "source": [
        "# Error de porcentaje absoluto medio - mape\n",
        "from sklearn.metrics import mean_absolute_percentage_error\n",
        "y_true = [3, -0.5, 2, 7]\n",
        "y_pred = [2.5, 0.0, 2, 8]\n",
        "mean_absolute_percentage_error(y_true, y_pred)"
      ],
      "metadata": {
        "colab": {
          "base_uri": "https://localhost:8080/"
        },
        "id": "0j3DDJPnBTmF",
        "outputId": "728ac4aa-0f9a-436c-dbe2-248ee8642d82"
      },
      "execution_count": null,
      "outputs": [
        {
          "output_type": "execute_result",
          "data": {
            "text/plain": [
              "0.3273809523809524"
            ]
          },
          "metadata": {},
          "execution_count": 8
        }
      ]
    },
    {
      "cell_type": "code",
      "source": [
        "# Ejer 5: Crear dos vectores/arrays de valores ciertos y valores previstos, y calcular el mape.\n",
        "# ¿Qué valores deberían de tener el array pred para que el error fuese 0?\n"
      ],
      "metadata": {
        "id": "0vsYXdRqB0TE"
      },
      "execution_count": null,
      "outputs": []
    },
    {
      "cell_type": "code",
      "source": [
        "# Ejer 6: Crear dos matrices/arrays de valores ciertos y valores previstos, y calcular el MAPE.\n",
        "# ¿Qué valores deberían de tener el array pred para que el error fuese 0?"
      ],
      "metadata": {
        "id": "085pmFVO-cA3"
      },
      "execution_count": null,
      "outputs": []
    }
  ]
}