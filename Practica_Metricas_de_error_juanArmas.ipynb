{
  "nbformat": 4,
  "nbformat_minor": 0,
  "metadata": {
    "colab": {
      "provenance": [],
      "authorship_tag": "ABX9TyMA/igw8uKtvFBVSMMXBwbH",
      "include_colab_link": true
    },
    "kernelspec": {
      "name": "python3",
      "display_name": "Python 3"
    },
    "language_info": {
      "name": "python"
    }
  },
  "cells": [
    {
      "cell_type": "markdown",
      "metadata": {
        "id": "view-in-github",
        "colab_type": "text"
      },
      "source": [
        "<a href=\"https://colab.research.google.com/github/JuanArmas/BigDataSNS/blob/main/Practica_Metricas_de_error_juanArmas.ipynb\" target=\"_parent\"><img src=\"https://colab.research.google.com/assets/colab-badge.svg\" alt=\"Open In Colab\"/></a>"
      ]
    },
    {
      "cell_type": "markdown",
      "source": [
        "23_24\n",
        "\n",
        "Actividad 3.1 - Métricas de error para los problemas de regresión\n",
        "\n",
        "A partir de los ejemplos indicados realizar los ejercicios propuestos"
      ],
      "metadata": {
        "id": "irnc2RYVuYVU"
      }
    },
    {
      "cell_type": "code",
      "source": [
        "import numpy as np"
      ],
      "metadata": {
        "id": "AkbAyz7eW1WX"
      },
      "execution_count": null,
      "outputs": []
    },
    {
      "cell_type": "code",
      "execution_count": null,
      "metadata": {
        "colab": {
          "base_uri": "https://localhost:8080/"
        },
        "id": "jVLFdfzxdsfG",
        "outputId": "589e198c-991e-4668-b297-3e29a71e1c55"
      },
      "outputs": [
        {
          "output_type": "execute_result",
          "data": {
            "text/plain": [
              "0.5"
            ]
          },
          "metadata": {},
          "execution_count": 2
        }
      ],
      "source": [
        "#Error absoluto medio - mae\n",
        "from sklearn.metrics import mean_absolute_error\n",
        "# Ejemplo 1\n",
        "y_true = [3, -0.5, 2, 7]\n",
        "y_pred = [2.5, 0, 2, 8]\n",
        "mean_absolute_error(y_true, y_pred)\n"
      ]
    },
    {
      "cell_type": "code",
      "source": [
        "# Ejer 1: Crear dos vectores/arrays de valores ciertos y valores previstos, y calcular el mae.\n",
        "# ¿Qué valores deberían de tener el array pred para que el error fuese 0? deberían tener el mismo valor\n",
        "# ¿y para que error fuese de 0.25? deberían tener una diferencia de 0.25 en los valores\n"
      ],
      "metadata": {
        "id": "67XK1bXegMai"
      },
      "execution_count": null,
      "outputs": []
    },
    {
      "cell_type": "markdown",
      "source": [
        "- ¿Qué valores deberían de tener el array pred para que el error fuese 0?\n",
        "  Deberían tener el mismo valor\n",
        "- ¿y para que error fuese de 0.25?\n",
        "  Deberían tener una diferencia de 0.25 en los valores"
      ],
      "metadata": {
        "id": "lXYnMIflUVhA"
      }
    },
    {
      "cell_type": "markdown",
      "source": [
        "Ejercicio 1:"
      ],
      "metadata": {
        "id": "NoomZCCDW582"
      }
    },
    {
      "cell_type": "code",
      "source": [
        "y_true =[3,4,5,6,7]\n",
        "y_pred = [3.25,4.25,5.25,6.25,7.25]\n",
        "mae_0_error = mean_absolute_error(y_true,y_true)\n",
        "mae_025_error = mean_absolute_error(y_true,y_pred)\n",
        "print(\"MAE cero error: \",mae_0_error)\n",
        "print(\"\\nMAE 0.25 error: \",mae_025_error)"
      ],
      "metadata": {
        "colab": {
          "base_uri": "https://localhost:8080/"
        },
        "id": "fmEpoYQFWv17",
        "outputId": "4f9d45da-cbb5-48e9-f21e-21156499dd3e"
      },
      "execution_count": null,
      "outputs": [
        {
          "output_type": "stream",
          "name": "stdout",
          "text": [
            "MAE cero error:  0.0\n",
            "\n",
            "MAE 0.25 error:  0.25\n"
          ]
        }
      ]
    },
    {
      "cell_type": "markdown",
      "source": [
        "Ejemplos practicos:\n",
        "\n",
        "https://runebook.dev/es/docs/scikit_learn/modules/generated/sklearn.metrics.mean_absolute_error#sklearn.metrics.mean_absolute_error"
      ],
      "metadata": {
        "id": "4Cm6Xtl9b7gc"
      }
    },
    {
      "cell_type": "code",
      "source": [
        "y_true = [ 3 , - 0.5 , 2 , 7 ]\n",
        "y_pred = [ 2.5 , 0.0 , 2 , 8 ]\n",
        "error_05 = mean_absolute_error(y_true, y_pred)\n",
        "print(\"Error 0.5: \",error_05)\n",
        "\n",
        "y_true = [[ 0.5 , 1 ], [- 1 , 1 ], [ 7 , - 6 ]]\n",
        "y_pred = [[ 0 , 2 ], [- 1 , 2 ], [ 8 , - 5 ]]\n",
        "error_075 = mean_absolute_error(y_true, y_pred)\n",
        "print(\"Error 0.75: \", error_075)\n",
        "\n",
        "imprime_array = mean_absolute_error(y_true, y_pred, multioutput= 'raw_values' )\n",
        "print(\"imprime error medio absoludo de cada salida = \", imprime_array)\n",
        "\n",
        "imprime_promedio_ponderado = mean_absolute_error(y_true, y_pred, multioutput= 'uniform_average')\n",
        "print(\"imprime promedio ponderado de los err de salida = \", imprime_promedio_ponderado)\n",
        "\n",
        "error_085 = mean_absolute_error(y_true, y_pred, multioutput=[ 0.3 , 0.7 ])\n",
        "print(\"Error 0.85: \",error_085)\n"
      ],
      "metadata": {
        "colab": {
          "base_uri": "https://localhost:8080/"
        },
        "id": "1SxFmEylZFYI",
        "outputId": "d593539b-fade-4048-cdbb-70dcafba7ce4"
      },
      "execution_count": null,
      "outputs": [
        {
          "output_type": "stream",
          "name": "stdout",
          "text": [
            "Error 0.5:  0.5\n",
            "Error 0.75:  0.75\n",
            "imprime error medio absoludo de cada salida =  [0.5 1. ]\n",
            "imprime promedio ponderado de los err de salida =  0.75\n",
            "Error 0.85:  0.85\n"
          ]
        }
      ]
    },
    {
      "cell_type": "code",
      "source": [
        "# Ejemplo 2\n",
        "y_true = [[0.5, 1], [-1, 1], [7, -6]]\n",
        "y_pred = [[0, 2], [-1, 2], [8, -5]]\n",
        "mean_absolute_error(y_true, y_pred)"
      ],
      "metadata": {
        "id": "3LhzsD30f60T",
        "colab": {
          "base_uri": "https://localhost:8080/"
        },
        "outputId": "f8fed5db-c083-48d3-f574-4de83e485317"
      },
      "execution_count": null,
      "outputs": [
        {
          "output_type": "execute_result",
          "data": {
            "text/plain": [
              "0.75"
            ]
          },
          "metadata": {},
          "execution_count": 17
        }
      ]
    },
    {
      "cell_type": "code",
      "source": [
        "# Ejer 2: Crear dos matrices/arrays de valores ciertos y valores previstos, y calcular el mae.\n",
        "# ¿Qué valores deberían de tener el array pred para que el error fuese 0? ¿y para que error fuese de 0.33?\n"
      ],
      "metadata": {
        "id": "LnPx6A4Astfq"
      },
      "execution_count": null,
      "outputs": []
    },
    {
      "cell_type": "markdown",
      "source": [
        "- Qué valores deberían de tener el array pred para que el error fuese 0?\n",
        "- ¿y para que error fuese de 0.33?"
      ],
      "metadata": {
        "id": "3TgQ6YwwZGJn"
      }
    },
    {
      "cell_type": "code",
      "source": [
        "y_true = np.array([[3, 5], [7, 2], [4, 6]])  # Matriz de valores verdaderos\n",
        "y_pred = np.array([[3.2, 5.3], [7.3, 2.2], [4.4, 6.6]])  # Matriz de valores predichos\n",
        "\n",
        "y_pred_error_0 = y_true\n",
        "mae_error_0 = mean_absolute_error(y_true,y_pred_error_0)\n",
        "print(\"MAE para error 0:\", mae_error_0)\n",
        "\n",
        "# Calculamos el error 0.33\n",
        "err_033 = 0.33/mean_absolute_error(y_true, y_pred)#dividimos el error que buscamos por el mae actual\n",
        "# Calcular y_pred ajustado con el err\n",
        "y_pred_033 = y_true + err_033 * (y_true - y_pred)\n",
        "# Calcular el error absoluto medio (MAE) con el nuevo y_pred ajustado\n",
        "mae_033 = mean_absolute_error(y_true,y_pred_033)\n",
        "\n",
        "print(\"Error absoluto medio (MAE) para error 0.33:\", mae_033)"
      ],
      "metadata": {
        "colab": {
          "base_uri": "https://localhost:8080/"
        },
        "id": "MVbvLbJMVlnT",
        "outputId": "f8bf9ba0-4ad6-4eda-9f1c-e80b15c8e4a0"
      },
      "execution_count": null,
      "outputs": [
        {
          "output_type": "stream",
          "name": "stdout",
          "text": [
            "MAE para error 0: 0.0\n",
            "Error absoluto medio (MAE) para error 0.33: 0.32999999999999996\n"
          ]
        }
      ]
    },
    {
      "cell_type": "code",
      "source": [
        "# Ejer 3: Crear dos vectores/arrays de valores ciertos y valores previstos, y calcular el mse.\n",
        "# ¿Qué valores deberían de tener el array pred para que el error fuese 0? ¿y para que error fuese de 0.25?\n",
        "# Nota: Es muy interesante comparar los resultados al aplicaer mae y mse sobre el mismo conjunto de datos. Podrás obervar\n",
        "#       que mse \"penaliza más\" (es decir, el número que se obtiene es mayor) con las diferencias entre los valores originales y los predichos que mae\n"
      ],
      "metadata": {
        "id": "FLZt6j17u7sE"
      },
      "execution_count": null,
      "outputs": []
    },
    {
      "cell_type": "code",
      "source": [
        "from sklearn.metrics import mean_squared_error\n",
        "y_true = [3, 4, 5, 6, 7]\n",
        "y_pred = [3.5, 3.5, 5.5, 5.5, 7.5]\n",
        "\n",
        "mse = mean_squared_error(y_true, y_pred) #se calcula el mse\n",
        "print(\"MSE:\", mse)\n",
        "\n",
        "y_pred_error_0 = y_true  # Valores idénticos a y_true\n",
        "mse_0 = mean_squared_error(y_true, y_pred_error_0) #se calcula el mse = 0\n",
        "print(\"MSE con error = 0:\", mse_0)\n",
        "\n",
        "mse_025_error = mean_squared_error(y_true,y_pred) #se calcula el error 0.25 en base a y_pred con aumento de medio punto\n",
        "print(\"MSE con error = 0.25:\", mse_025_error)\n"
      ],
      "metadata": {
        "colab": {
          "base_uri": "https://localhost:8080/"
        },
        "id": "2epTEqOb2L_g",
        "outputId": "3cf0ee15-5202-4059-9ea3-95935a56bf76"
      },
      "execution_count": null,
      "outputs": [
        {
          "output_type": "stream",
          "name": "stdout",
          "text": [
            "MSE: 0.25\n",
            "MSE con error = 0: 0.0\n",
            "MSE con error = 0.25: 0.25\n"
          ]
        }
      ]
    },
    {
      "cell_type": "code",
      "source": [
        "# Error cuadrático medio - mse\n",
        "from sklearn.metrics import mean_squared_error\n",
        "y_true = [3, -0.5, 2, 7]\n",
        "y_pred = [2.5, 0.0, 2, 8]\n",
        "mean_squared_error(y_true, y_pred)\n"
      ],
      "metadata": {
        "colab": {
          "base_uri": "https://localhost:8080/"
        },
        "id": "59efr-GWgKP6",
        "outputId": "52080349-48f0-4ee6-f086-384a12e66622"
      },
      "execution_count": null,
      "outputs": [
        {
          "output_type": "execute_result",
          "data": {
            "text/plain": [
              "0.375"
            ]
          },
          "metadata": {},
          "execution_count": 22
        }
      ]
    },
    {
      "cell_type": "code",
      "source": [
        "# Ejer 4: Crear dos matrices/arrays de valores ciertos y valores previstos, y calcular el mse.\n",
        "# ¿Qué valores deberían de tener el array pred para que el error fuese 0? ¿y para que error fuese de 0.33?\n"
      ],
      "metadata": {
        "id": "M9nZd4nLvIRB"
      },
      "execution_count": null,
      "outputs": []
    },
    {
      "cell_type": "code",
      "source": [
        "y_true = np.array([[3, 5], [7, 2], [4, 6]])  # Matriz de valores verdaderos\n",
        "y_pred = np.array([[3.18, 5.18], [7.18, 2.18], [4.18, 6.18]])  # Matriz de valores predichos\n",
        "\n",
        "y_pred_error_0 = y_true\n",
        "mse_error_0 = mean_squared_error(y_true, y_pred_error_0)\n",
        "print(\"MsE para error 0:\", mse_error_0)\n",
        "\n",
        "# Calculamos el error 0.33\n",
        "err_033 = 0.33/(mean_squared_error(y_true, y_pred))#dividimos el error que buscamos por el mse actual\n",
        "# Calcular y_pred ajustado con el err\n",
        "y_pred_033 = y_true + err_033 * (y_true - y_pred)\n",
        "# Calcular el error cuadratico medio (MSE) con el nuevo y_pred ajustado\n",
        "mse_033 = mean_squared_error(y_true,y_pred_033)\n",
        "\n",
        "print(\"Error cuadratico medio (MSE) para error 0.33:\", mse_033)"
      ],
      "metadata": {
        "colab": {
          "base_uri": "https://localhost:8080/"
        },
        "id": "LhoBDJ3ABJIt",
        "outputId": "bafba5ec-f509-47dc-e1c3-48dffc5bbb44"
      },
      "execution_count": null,
      "outputs": [
        {
          "output_type": "stream",
          "name": "stdout",
          "text": [
            "MsE para error 0: 0.0\n",
            "Error cuadratico medio (MSE) para error 0.33: 3.3611111111111156\n"
          ]
        }
      ]
    },
    {
      "cell_type": "code",
      "source": [
        "# Error de porcentaje absoluto medio - mape\n",
        "from sklearn.metrics import mean_absolute_percentage_error\n",
        "y_true = [3, -0.5, 2, 7]\n",
        "y_pred = [2.5, 0.0, 2, 8]\n",
        "mean_absolute_percentage_error(y_true, y_pred)"
      ],
      "metadata": {
        "colab": {
          "base_uri": "https://localhost:8080/"
        },
        "id": "0j3DDJPnBTmF",
        "outputId": "548748e0-d7c4-4dbc-f5d1-a50eef44a45f"
      },
      "execution_count": null,
      "outputs": [
        {
          "output_type": "execute_result",
          "data": {
            "text/plain": [
              "0.3273809523809524"
            ]
          },
          "metadata": {},
          "execution_count": 74
        }
      ]
    },
    {
      "cell_type": "code",
      "source": [
        "# Ejer 5: Crear dos vectores/arrays de valores ciertos y valores previstos, y calcular el mape.\n",
        "# ¿Qué valores deberían de tener el array pred para que el error fuese 0?\n"
      ],
      "metadata": {
        "id": "0vsYXdRqB0TE"
      },
      "execution_count": null,
      "outputs": []
    },
    {
      "cell_type": "code",
      "source": [
        "from sklearn.metrics import mean_absolute_percentage_error\n",
        "y_true = [3, -0.5, 2, 7]\n",
        "y_pred = [2.5, 0.0, 2, 8]\n",
        "\n",
        "mape = (mean_absolute_percentage_error(y_true, y_pred))*100\n",
        "print(\"valor mape: \", mape,\"%\")\n",
        "\n",
        "y_pred_0 = y_true\n",
        "mape_0 = mean_absolute_percentage_error(y_true, y_pred_0)\n",
        "\n",
        "print(\"valor mape = 0: \", mape_0,\"%\")"
      ],
      "metadata": {
        "colab": {
          "base_uri": "https://localhost:8080/"
        },
        "id": "xl7pinqHQjcm",
        "outputId": "ad4ec0e5-1f0b-40f6-f9a5-43bfdf501806"
      },
      "execution_count": null,
      "outputs": [
        {
          "output_type": "stream",
          "name": "stdout",
          "text": [
            "valor mape:  32.73809523809524 %\n",
            "valor mape = 0:  0.0 %\n"
          ]
        }
      ]
    },
    {
      "cell_type": "code",
      "source": [
        "# Ejer 6: Crear dos matrices/arrays de valores ciertos y valores previstos, y calcular el MAPE.\n",
        "# ¿Qué valores deberían de tener el array pred para que el error fuese 0?"
      ],
      "metadata": {
        "id": "085pmFVO-cA3"
      },
      "execution_count": null,
      "outputs": []
    },
    {
      "cell_type": "code",
      "source": [
        "y_true = np.array([[3, 5], [7, 2], [4, 6]])  # Matriz de valores verdaderos\n",
        "y_pred = np.array([[3.18, 5.18], [7.18, 2.18], [4.18, 6.18]])  # Matriz de valores predichos\n",
        "\n",
        "mape = (mean_absolute_percentage_error(y_true, y_pred))*100\n",
        "print(\"valor mape: \", mape,\"%\")\n",
        "\n",
        "y_pred_0 = y_true\n",
        "mape_0 = mean_absolute_percentage_error(y_true, y_pred_0)\n",
        "\n",
        "print(\"valor mape = 0: \", mape_0,\"%\")"
      ],
      "metadata": {
        "colab": {
          "base_uri": "https://localhost:8080/"
        },
        "id": "CdX6RPD4Sf3Y",
        "outputId": "0ba10620-debc-4aee-ca1c-83226727a5f9"
      },
      "execution_count": null,
      "outputs": [
        {
          "output_type": "stream",
          "name": "stdout",
          "text": [
            "valor mape:  4.778571428571428 %\n",
            "valor mape = 0:  0.0 %\n"
          ]
        }
      ]
    }
  ]
}