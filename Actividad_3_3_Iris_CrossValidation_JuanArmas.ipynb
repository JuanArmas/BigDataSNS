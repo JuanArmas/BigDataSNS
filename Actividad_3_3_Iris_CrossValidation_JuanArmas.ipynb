{
  "nbformat": 4,
  "nbformat_minor": 0,
  "metadata": {
    "colab": {
      "provenance": [],
      "authorship_tag": "ABX9TyOLVw6dszOmfIwjz7gMLnW3",
      "include_colab_link": true
    },
    "kernelspec": {
      "name": "python3",
      "display_name": "Python 3"
    },
    "language_info": {
      "name": "python"
    }
  },
  "cells": [
    {
      "cell_type": "markdown",
      "metadata": {
        "id": "view-in-github",
        "colab_type": "text"
      },
      "source": [
        "<a href=\"https://colab.research.google.com/github/JuanArmas/BigDataSNS/blob/main/Actividad_3_3_Iris_CrossValidation_JuanArmas.ipynb\" target=\"_parent\"><img src=\"https://colab.research.google.com/assets/colab-badge.svg\" alt=\"Open In Colab\"/></a>"
      ]
    },
    {
      "cell_type": "markdown",
      "source": [
        "Juan Airam Armas Alemán.\n",
        "\n",
        "Github:"
      ],
      "metadata": {
        "id": "23161rXZUYpv"
      }
    },
    {
      "cell_type": "markdown",
      "source": [
        "#Prueba CrossValidation sobre Dataset IRIS"
      ],
      "metadata": {
        "id": "KnDYjj5UUYhP"
      }
    },
    {
      "cell_type": "markdown",
      "source": [
        "El modelo categorical aunque emite datos aparentemente válidos, se debería desestimar en estos casos para este tipo de dataset ya que dichos datos resultan ser erróneos con un dataset como este de datos continuos."
      ],
      "metadata": {
        "id": "9CtM1szvgPGh"
      }
    },
    {
      "cell_type": "code",
      "source": [
        "import seaborn as sns\n",
        "from sklearn.model_selection import train_test_split\n",
        "from sklearn.metrics import accuracy_score\n",
        "import numpy as np\n",
        "from sklearn.model_selection import KFold\n",
        "from sklearn.naive_bayes import GaussianNB, MultinomialNB, BernoulliNB, ComplementNB, CategoricalNB\n",
        "\n",
        "# Cargar el conjunto de datos Iris\n",
        "iris = sns.load_dataset('iris')\n",
        "X_iris = iris.drop('species', axis=1)\n",
        "y_iris = iris['species']\n",
        "Xtrain, Xtest, ytrain, ytest = train_test_split(X_iris, y_iris, test_size=0.33, random_state=1)\n",
        "\n",
        "# Instanciar el modelo y realizar el entrenamiento\n",
        "model = CategoricalNB()\n",
        "model.fit(Xtrain, ytrain)\n",
        "\n",
        "# Realizar predicciones y calcular la precisión\n",
        "y_model = model.predict(Xtest)\n",
        "accuracy = accuracy_score(ytest, y_model)\n",
        "\n",
        "names = [\"GaussianNB\", \"MultiNomialNB\", 'BernouilliNB', 'ComplementNB','CategoricalNB']\n",
        "classifiers = [GaussianNB(), MultinomialNB(), BernoulliNB(), ComplementNB(),CategoricalNB()]\n",
        "\n",
        "cv = KFold(n_splits = 5, shuffle = True)\n",
        "total_scores_cv = []\n",
        "\n",
        "for name, clf in zip(names, classifiers):\n",
        "  fold_accuracy = []\n",
        "  for train_fold, test_fold in cv.split(Xtrain):\n",
        "\n",
        "    f_train_x = Xtrain.iloc[train_fold]\n",
        "    f_train_y = ytrain.iloc[train_fold]\n",
        "    clf.fit(f_train_x, f_train_y)\n",
        "    y_pred = clf.predict(Xtrain.iloc[test_fold])\n",
        "    acc = accuracy_score(ytrain.iloc[test_fold], y_pred)\n",
        "    fold_accuracy.append(acc)\n",
        "  total_scores_cv.append(sum(fold_accuracy)/len(fold_accuracy))\n",
        "\n",
        "total_scores_scv = []\n",
        "print(\"Sin Cross Validation\")\n",
        "for name, clf in zip(names, classifiers):\n",
        "  clf.fit(Xtrain, ytrain)\n",
        "  score = clf.score(Xtest, ytest)\n",
        "  print (\"Modelo: %s = %6.2f\" % (name, score))\n",
        "\n",
        "print(\"\\nCon Cross Validation\")\n",
        "for i in range(len(names)):\n",
        "  print (\"Modelo: %s = %6.2f\" % (names[i], total_scores_cv[i]))"
      ],
      "metadata": {
        "colab": {
          "base_uri": "https://localhost:8080/"
        },
        "id": "FXbHxSVtaQ6i",
        "outputId": "155ad44e-27b0-481c-d973-177f762da31d"
      },
      "execution_count": 1,
      "outputs": [
        {
          "output_type": "stream",
          "name": "stdout",
          "text": [
            "Sin Cross Validation\n",
            "Modelo: GaussianNB =   0.94\n",
            "Modelo: MultiNomialNB =   0.64\n",
            "Modelo: BernouilliNB =   0.28\n",
            "Modelo: ComplementNB =   0.62\n",
            "Modelo: CategoricalNB =   0.98\n",
            "\n",
            "Con Cross Validation\n",
            "Modelo: GaussianNB =   0.94\n",
            "Modelo: MultiNomialNB =   0.63\n",
            "Modelo: BernouilliNB =   0.32\n",
            "Modelo: ComplementNB =   0.69\n",
            "Modelo: CategoricalNB =   0.91\n"
          ]
        }
      ]
    }
  ]
}